{
 "cells": [
  {
   "cell_type": "code",
   "execution_count": null,
   "id": "5f46bda9-0da1-4390-a9b7-5eb150f1c183",
   "metadata": {},
   "outputs": [],
   "source": [
    "import subprocess\n",
    "import os\n",
    "import sys\n",
    "from datetime import datetime, timedelta\n",
    "\n",
    "#SICE_f = '/home/be49a181-8763-4ec9-9cc6-2b4b2dac06eb/SICE'\n",
    "#extra_f = '/home/be49a181-8763-4ec9-9cc6-2b4b2dac06eb/extra'\n",
    "\n",
    "#os.chdir(extra_f)\n",
    "print(os.getcwd())\n",
    "\n",
    "\n",
    "yesterday = (datetime.today() - timedelta(days = 1)).strftime(\"%Y-%m-%d\")\n",
    "\n",
    "#yesterday = \"2023-08-31\"\n",
    "# areas = [Greenland','FransJosefLand','SevernayaZemlya','NovayaZemlya',\\\n",
    "#         'Norway','Svalbard','Iceland','SouthernArcticCanada','NorthernArcticCanada','AlaskaYukon']\n",
    "\n",
    "areas = ['Greenland'] \n",
    "\n",
    "print(f\"Processing {yesterday}\")\n",
    "\n",
    "print(sys.version)\n",
    "print(sys.executable)\n",
    "\n",
    "for a in areas: \n",
    "    \n",
    "    subprocess.call([sys.executable, 'pysicehub.py','-d', yesterday, '-a', a, '-r', '500']) \n",
    "\n",
    "    output_f = 'output/'\n",
    "    down_f ='downloads/500/'\n",
    "\n",
    "    print(f\"Deleteing Raw Data and Output\") \n",
    "    subprocess.call([sys.executable, 'output_del.py']) \n",
    "    subprocess.call([sys.executable, 'download_del.py'])"
   ]
  }
 ],
 "metadata": {
  "kernelspec": {
   "display_name": "polartep1-sice",
   "language": "python",
   "name": "conda-env-polartep1-sice-py"
  },
  "language_info": {
   "codemirror_mode": {
    "name": "ipython",
    "version": 3
   },
   "file_extension": ".py",
   "mimetype": "text/x-python",
   "name": "python",
   "nbconvert_exporter": "python",
   "pygments_lexer": "ipython3",
   "version": "3.9.13"
  }
 },
 "nbformat": 4,
 "nbformat_minor": 5
}
